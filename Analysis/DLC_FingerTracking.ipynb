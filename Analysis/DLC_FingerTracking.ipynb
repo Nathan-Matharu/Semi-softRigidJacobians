{
 "cells": [
  {
   "cell_type": "markdown",
   "metadata": {
    "id": "m1YoXckoc5Ob"
   },
   "source": [
    "Setup/Initialization"
   ]
  },
  {
   "cell_type": "code",
   "execution_count": null,
   "metadata": {
    "colab": {
     "base_uri": "https://localhost:8080/"
    },
    "executionInfo": {
     "elapsed": 7446,
     "status": "ok",
     "timestamp": 1638755379069,
     "user": {
      "displayName": "Timothy Fanelle",
      "photoUrl": "https://lh3.googleusercontent.com/a/default-user=s64",
      "userId": "01080237726336904606"
     },
     "user_tz": 480
    },
    "id": "_zIPBLhJcDtX",
    "outputId": "b1eae318-fc41-44b4-f314-dcc72f3f59fe"
   },
   "outputs": [],
   "source": [
    "# Clone the deeplabcut repo so it can be used\n",
    "!git clone https://github.com/DeepLabCut/DeepLabCut.git"
   ]
  },
  {
   "cell_type": "markdown",
   "metadata": {
    "id": "pYr0p-3Fc-LH"
   },
   "source": [
    "Startup"
   ]
  },
  {
   "cell_type": "code",
   "execution_count": null,
   "metadata": {
    "colab": {
     "base_uri": "https://localhost:8080/"
    },
    "executionInfo": {
     "elapsed": 258,
     "status": "ok",
     "timestamp": 1638755436626,
     "user": {
      "displayName": "Timothy Fanelle",
      "photoUrl": "https://lh3.googleusercontent.com/a/default-user=s64",
      "userId": "01080237726336904606"
     },
     "user_tz": 480
    },
    "id": "oX6C87vVdBEL",
    "outputId": "5182b005-9531-4bc7-9ec0-d6b8936e72c5"
   },
   "outputs": [],
   "source": [
    "%cd softFinger/\n",
    "!ls"
   ]
  },
  {
   "cell_type": "code",
   "execution_count": null,
   "metadata": {
    "colab": {
     "base_uri": "https://localhost:8080/"
    },
    "executionInfo": {
     "elapsed": 26268,
     "status": "ok",
     "timestamp": 1638755464197,
     "user": {
      "displayName": "Timothy Fanelle",
      "photoUrl": "https://lh3.googleusercontent.com/a/default-user=s64",
      "userId": "01080237726336904606"
     },
     "user_tz": 480
    },
    "id": "5ItOiD8wdL25",
    "outputId": "305e2a91-8e17-4a98-ef2c-91a3190b39a7"
   },
   "outputs": [],
   "source": [
    "!pip install deeplabcut"
   ]
  },
  {
   "cell_type": "code",
   "execution_count": null,
   "metadata": {
    "executionInfo": {
     "elapsed": 250,
     "status": "ok",
     "timestamp": 1638768088734,
     "user": {
      "displayName": "Timothy Fanelle",
      "photoUrl": "https://lh3.googleusercontent.com/a/default-user=s64",
      "userId": "01080237726336904606"
     },
     "user_tz": 480
    },
    "id": "-JSgP-22Rs2E"
   },
   "outputs": [],
   "source": [
    "path_config_file = '/content/softFinger/config.yaml'"
   ]
  },
  {
   "cell_type": "code",
   "execution_count": null,
   "metadata": {
    "colab": {
     "base_uri": "https://localhost:8080/"
    },
    "executionInfo": {
     "elapsed": 4,
     "status": "ok",
     "timestamp": 1638755483140,
     "user": {
      "displayName": "Timothy Fanelle",
      "photoUrl": "https://lh3.googleusercontent.com/a/default-user=s64",
      "userId": "01080237726336904606"
     },
     "user_tz": 480
    },
    "id": "LvpLhd8KSX_8",
    "outputId": "92ab1abf-8c6f-4eed-8aa4-f5f6a8cd0a1e"
   },
   "outputs": [],
   "source": [
    "# Use TensorFlow 1.x:\n",
    "%tensorflow_version 1.x"
   ]
  },
  {
   "cell_type": "code",
   "execution_count": null,
   "metadata": {
    "colab": {
     "base_uri": "https://localhost:8080/"
    },
    "executionInfo": {
     "elapsed": 6149,
     "status": "ok",
     "timestamp": 1638755490911,
     "user": {
      "displayName": "Timothy Fanelle",
      "photoUrl": "https://lh3.googleusercontent.com/a/default-user=s64",
      "userId": "01080237726336904606"
     },
     "user_tz": 480
    },
    "id": "MOnReSs4VhQX",
    "outputId": "25a593f1-e0ea-4865-a76b-59a9fdbd9ce7"
   },
   "outputs": [],
   "source": [
    "#GUIs don't work on the cloud, so we will supress wxPython: \n",
    "import os\n",
    "os.environ[\"DLClight\"]=\"True\"\n",
    "\n",
    "import deeplabcut"
   ]
  },
  {
   "cell_type": "code",
   "execution_count": null,
   "metadata": {
    "colab": {
     "base_uri": "https://localhost:8080/"
    },
    "executionInfo": {
     "elapsed": 267,
     "status": "ok",
     "timestamp": 1638768091481,
     "user": {
      "displayName": "Timothy Fanelle",
      "photoUrl": "https://lh3.googleusercontent.com/a/default-user=s64",
      "userId": "01080237726336904606"
     },
     "user_tz": 480
    },
    "id": "SHBpf4uss1Hd",
    "outputId": "95e337bb-d4e9-48e0-8388-59543a3e2171"
   },
   "outputs": [],
   "source": [
    "deeplabcut.create_training_dataset(path_config_file, augmenter_type='imgaug')"
   ]
  },
  {
   "cell_type": "code",
   "execution_count": null,
   "metadata": {
    "colab": {
     "base_uri": "https://localhost:8080/"
    },
    "executionInfo": {
     "elapsed": 3263147,
     "status": "ok",
     "timestamp": 1638771357646,
     "user": {
      "displayName": "Timothy Fanelle",
      "photoUrl": "https://lh3.googleusercontent.com/a/default-user=s64",
      "userId": "01080237726336904606"
     },
     "user_tz": 480
    },
    "id": "-GgWCk5uRWB7",
    "outputId": "fecc9e1b-1829-4821-e694-4d6ad7ceaa17"
   },
   "outputs": [],
   "source": [
    "deeplabcut.train_network(path_config_file, shuffle=1, trainingsetindex=0, max_snapshots_to_keep=5, autotune=False, displayiters=250, saveiters=500, maxiters=5000, allow_growth=True)"
   ]
  },
  {
   "cell_type": "code",
   "execution_count": null,
   "metadata": {
    "colab": {
     "base_uri": "https://localhost:8080/"
    },
    "executionInfo": {
     "elapsed": 62612,
     "status": "ok",
     "timestamp": 1638771770155,
     "user": {
      "displayName": "Timothy Fanelle",
      "photoUrl": "https://lh3.googleusercontent.com/a/default-user=s64",
      "userId": "01080237726336904606"
     },
     "user_tz": 480
    },
    "id": "EKQiv9rVtPz-",
    "outputId": "0d9b4876-ff0a-43c1-9a66-bcdf980ef47a"
   },
   "outputs": [],
   "source": [
    "deeplabcut.evaluate_network(path_config_file,Shuffles=[1], plotting=True)"
   ]
  },
  {
   "cell_type": "code",
   "execution_count": null,
   "metadata": {
    "colab": {
     "base_uri": "https://localhost:8080/",
     "height": 923
    },
    "executionInfo": {
     "elapsed": 1613567,
     "status": "ok",
     "timestamp": 1638773392242,
     "user": {
      "displayName": "Timothy Fanelle",
      "photoUrl": "https://lh3.googleusercontent.com/a/default-user=s64",
      "userId": "01080237726336904606"
     },
     "user_tz": 480
    },
    "id": "Ks--_W6ItV1O",
    "outputId": "12442fca-2ef5-4852-ccef-4d65631866ae"
   },
   "outputs": [],
   "source": [
    "deeplabcut.analyze_videos(path_config_file, ['/content/softFinger2/videos'], videotype='.mp4', shuffle=1, trainingsetindex=0, save_as_csv=True, destfolder=None, dynamic=(True, .5, 10))"
   ]
  },
  {
   "cell_type": "code",
   "execution_count": null,
   "metadata": {
    "colab": {
     "base_uri": "https://localhost:8080/"
    },
    "executionInfo": {
     "elapsed": 1528,
     "status": "ok",
     "timestamp": 1638773576164,
     "user": {
      "displayName": "Timothy Fanelle",
      "photoUrl": "https://lh3.googleusercontent.com/a/default-user=s64",
      "userId": "01080237726336904606"
     },
     "user_tz": 480
    },
    "id": "jWWYkmOOua-P",
    "outputId": "5bc1fb37-c463-41f7-f572-5f9b6a867f4e"
   },
   "outputs": [],
   "source": [
    "deeplabcut.plot_trajectories(path_config_file, ['/content/softFinger2/videos/1cmMonteCarlo.mp4'])"
   ]
  },
  {
   "cell_type": "code",
   "execution_count": null,
   "metadata": {
    "colab": {
     "base_uri": "https://localhost:8080/"
    },
    "executionInfo": {
     "elapsed": 118159,
     "status": "ok",
     "timestamp": 1638773696899,
     "user": {
      "displayName": "Timothy Fanelle",
      "photoUrl": "https://lh3.googleusercontent.com/a/default-user=s64",
      "userId": "01080237726336904606"
     },
     "user_tz": 480
    },
    "id": "g_sfEI2mut8o",
    "outputId": "c7bfac6f-d6e7-4486-f34a-3200868c53b8"
   },
   "outputs": [],
   "source": [
    "deeplabcut.create_labeled_video(path_config_file,['/content/softFinger2/videos'], videotype='.mp4', draw_skeleton=True)"
   ]
  }
 ],
 "metadata": {
  "accelerator": "GPU",
  "colab": {
   "authorship_tag": "ABX9TyNjVGW+6o0TYK/EaF+U7R+F",
   "collapsed_sections": [],
   "name": "BME504FingerTracking.ipynb",
   "provenance": []
  },
  "kernelspec": {
   "display_name": "Python 3 (ipykernel)",
   "language": "python",
   "name": "python3"
  },
  "language_info": {
   "codemirror_mode": {
    "name": "ipython",
    "version": 3
   },
   "file_extension": ".py",
   "mimetype": "text/x-python",
   "name": "python",
   "nbconvert_exporter": "python",
   "pygments_lexer": "ipython3",
   "version": "3.9.9"
  }
 },
 "nbformat": 4,
 "nbformat_minor": 1
}
